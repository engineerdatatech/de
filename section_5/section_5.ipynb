{
 "cells": [
  {
   "cell_type": "code",
   "execution_count": 2,
   "id": "0bcd0e31",
   "metadata": {},
   "outputs": [],
   "source": [
    "import pandas as pd\n",
    "import numpy as np\n",
    "from sklearn.preprocessing import LabelEncoder,OrdinalEncoder,OneHotEncoder\n",
    "from itertools import product \n",
    "from sklearn.model_selection import train_test_split\n",
    "from sklearn.linear_model import LogisticRegression\n",
    "from sklearn.neighbors import KNeighborsClassifier\n",
    "from sklearn.svm import SVC\n",
    "from sklearn.tree import DecisionTreeClassifier\n",
    "from sklearn.ensemble import RandomForestClassifier\n",
    "from sklearn.naive_bayes import GaussianNB\n",
    "from sklearn.model_selection import GridSearchCV\n",
    "from sklearn.model_selection import RepeatedStratifiedKFold"
   ]
  },
  {
   "cell_type": "code",
   "execution_count": 3,
   "id": "d395b9e3",
   "metadata": {},
   "outputs": [],
   "source": [
    "SEED = 20\n",
    "\n",
    "# For RepeatedStratifiedKFold\n",
    "N_REPEATS=3\n",
    "\n",
    "# For GridSearchCV \n",
    "N_JOBS=-1\n",
    "SCORING='accuracy'\n",
    "ERROR_SCORE=0"
   ]
  },
  {
   "cell_type": "markdown",
   "id": "d1b19490",
   "metadata": {},
   "source": [
    "# Importing Data"
   ]
  },
  {
   "cell_type": "code",
   "execution_count": 4,
   "id": "99037c45",
   "metadata": {},
   "outputs": [],
   "source": [
    "col_names = [\"buying\", \"maint\", \"doors\", \"persons\", \"lug_boot\", \"safety\", \"class\"]\n",
    "cars = pd.read_csv(\"car.data\", header=None, names=col_names)"
   ]
  },
  {
   "cell_type": "markdown",
   "id": "edb66711",
   "metadata": {},
   "source": [
    "# Exploring Data"
   ]
  },
  {
   "cell_type": "code",
   "execution_count": 5,
   "id": "32e8ebfb",
   "metadata": {},
   "outputs": [
    {
     "data": {
      "text/html": [
       "<div>\n",
       "<style scoped>\n",
       "    .dataframe tbody tr th:only-of-type {\n",
       "        vertical-align: middle;\n",
       "    }\n",
       "\n",
       "    .dataframe tbody tr th {\n",
       "        vertical-align: top;\n",
       "    }\n",
       "\n",
       "    .dataframe thead th {\n",
       "        text-align: right;\n",
       "    }\n",
       "</style>\n",
       "<table border=\"1\" class=\"dataframe\">\n",
       "  <thead>\n",
       "    <tr style=\"text-align: right;\">\n",
       "      <th></th>\n",
       "      <th>buying</th>\n",
       "      <th>maint</th>\n",
       "      <th>doors</th>\n",
       "      <th>persons</th>\n",
       "      <th>lug_boot</th>\n",
       "      <th>safety</th>\n",
       "      <th>class</th>\n",
       "    </tr>\n",
       "  </thead>\n",
       "  <tbody>\n",
       "    <tr>\n",
       "      <th>0</th>\n",
       "      <td>vhigh</td>\n",
       "      <td>vhigh</td>\n",
       "      <td>2</td>\n",
       "      <td>2</td>\n",
       "      <td>small</td>\n",
       "      <td>low</td>\n",
       "      <td>unacc</td>\n",
       "    </tr>\n",
       "    <tr>\n",
       "      <th>1</th>\n",
       "      <td>vhigh</td>\n",
       "      <td>vhigh</td>\n",
       "      <td>2</td>\n",
       "      <td>2</td>\n",
       "      <td>small</td>\n",
       "      <td>med</td>\n",
       "      <td>unacc</td>\n",
       "    </tr>\n",
       "    <tr>\n",
       "      <th>2</th>\n",
       "      <td>vhigh</td>\n",
       "      <td>vhigh</td>\n",
       "      <td>2</td>\n",
       "      <td>2</td>\n",
       "      <td>small</td>\n",
       "      <td>high</td>\n",
       "      <td>unacc</td>\n",
       "    </tr>\n",
       "    <tr>\n",
       "      <th>3</th>\n",
       "      <td>vhigh</td>\n",
       "      <td>vhigh</td>\n",
       "      <td>2</td>\n",
       "      <td>2</td>\n",
       "      <td>med</td>\n",
       "      <td>low</td>\n",
       "      <td>unacc</td>\n",
       "    </tr>\n",
       "    <tr>\n",
       "      <th>4</th>\n",
       "      <td>vhigh</td>\n",
       "      <td>vhigh</td>\n",
       "      <td>2</td>\n",
       "      <td>2</td>\n",
       "      <td>med</td>\n",
       "      <td>med</td>\n",
       "      <td>unacc</td>\n",
       "    </tr>\n",
       "  </tbody>\n",
       "</table>\n",
       "</div>"
      ],
      "text/plain": [
       "  buying  maint doors persons lug_boot safety  class\n",
       "0  vhigh  vhigh     2       2    small    low  unacc\n",
       "1  vhigh  vhigh     2       2    small    med  unacc\n",
       "2  vhigh  vhigh     2       2    small   high  unacc\n",
       "3  vhigh  vhigh     2       2      med    low  unacc\n",
       "4  vhigh  vhigh     2       2      med    med  unacc"
      ]
     },
     "execution_count": 5,
     "metadata": {},
     "output_type": "execute_result"
    }
   ],
   "source": [
    "cars.head()"
   ]
  },
  {
   "cell_type": "code",
   "execution_count": 6,
   "id": "06c8492f",
   "metadata": {},
   "outputs": [
    {
     "data": {
      "text/html": [
       "<div>\n",
       "<style scoped>\n",
       "    .dataframe tbody tr th:only-of-type {\n",
       "        vertical-align: middle;\n",
       "    }\n",
       "\n",
       "    .dataframe tbody tr th {\n",
       "        vertical-align: top;\n",
       "    }\n",
       "\n",
       "    .dataframe thead th {\n",
       "        text-align: right;\n",
       "    }\n",
       "</style>\n",
       "<table border=\"1\" class=\"dataframe\">\n",
       "  <thead>\n",
       "    <tr style=\"text-align: right;\">\n",
       "      <th></th>\n",
       "      <th>buying</th>\n",
       "      <th>maint</th>\n",
       "      <th>doors</th>\n",
       "      <th>persons</th>\n",
       "      <th>lug_boot</th>\n",
       "      <th>safety</th>\n",
       "      <th>class</th>\n",
       "    </tr>\n",
       "  </thead>\n",
       "  <tbody>\n",
       "    <tr>\n",
       "      <th>count</th>\n",
       "      <td>1728</td>\n",
       "      <td>1728</td>\n",
       "      <td>1728</td>\n",
       "      <td>1728</td>\n",
       "      <td>1728</td>\n",
       "      <td>1728</td>\n",
       "      <td>1728</td>\n",
       "    </tr>\n",
       "    <tr>\n",
       "      <th>unique</th>\n",
       "      <td>4</td>\n",
       "      <td>4</td>\n",
       "      <td>4</td>\n",
       "      <td>3</td>\n",
       "      <td>3</td>\n",
       "      <td>3</td>\n",
       "      <td>4</td>\n",
       "    </tr>\n",
       "    <tr>\n",
       "      <th>top</th>\n",
       "      <td>vhigh</td>\n",
       "      <td>vhigh</td>\n",
       "      <td>2</td>\n",
       "      <td>2</td>\n",
       "      <td>small</td>\n",
       "      <td>low</td>\n",
       "      <td>unacc</td>\n",
       "    </tr>\n",
       "    <tr>\n",
       "      <th>freq</th>\n",
       "      <td>432</td>\n",
       "      <td>432</td>\n",
       "      <td>432</td>\n",
       "      <td>576</td>\n",
       "      <td>576</td>\n",
       "      <td>576</td>\n",
       "      <td>1210</td>\n",
       "    </tr>\n",
       "  </tbody>\n",
       "</table>\n",
       "</div>"
      ],
      "text/plain": [
       "       buying  maint doors persons lug_boot safety  class\n",
       "count    1728   1728  1728    1728     1728   1728   1728\n",
       "unique      4      4     4       3        3      3      4\n",
       "top     vhigh  vhigh     2       2    small    low  unacc\n",
       "freq      432    432   432     576      576    576   1210"
      ]
     },
     "execution_count": 6,
     "metadata": {},
     "output_type": "execute_result"
    }
   ],
   "source": [
    "cars.describe()"
   ]
  },
  {
   "cell_type": "code",
   "execution_count": 7,
   "id": "b6956ffe",
   "metadata": {},
   "outputs": [
    {
     "data": {
      "text/plain": [
       "buying      0\n",
       "maint       0\n",
       "doors       0\n",
       "persons     0\n",
       "lug_boot    0\n",
       "safety      0\n",
       "class       0\n",
       "dtype: int64"
      ]
     },
     "execution_count": 7,
     "metadata": {},
     "output_type": "execute_result"
    }
   ],
   "source": [
    "# to check for any null values\n",
    "cars.isnull().sum(axis=0)"
   ]
  },
  {
   "cell_type": "markdown",
   "id": "7a10dcca",
   "metadata": {},
   "source": [
    "From the results above, there is no null value in any of the columns"
   ]
  },
  {
   "cell_type": "code",
   "execution_count": 8,
   "id": "9d041b1a",
   "metadata": {},
   "outputs": [
    {
     "name": "stdout",
     "output_type": "stream",
     "text": [
      "Unique values and count for column buying :\n",
      "vhigh    432\n",
      "high     432\n",
      "med      432\n",
      "low      432\n",
      "Name: buying, dtype: int64\n",
      "\n",
      "Unique values and count for column maint :\n",
      "vhigh    432\n",
      "high     432\n",
      "med      432\n",
      "low      432\n",
      "Name: maint, dtype: int64\n",
      "\n",
      "Unique values and count for column doors :\n",
      "2        432\n",
      "3        432\n",
      "4        432\n",
      "5more    432\n",
      "Name: doors, dtype: int64\n",
      "\n",
      "Unique values and count for column persons :\n",
      "2       576\n",
      "4       576\n",
      "more    576\n",
      "Name: persons, dtype: int64\n",
      "\n",
      "Unique values and count for column lug_boot :\n",
      "small    576\n",
      "med      576\n",
      "big      576\n",
      "Name: lug_boot, dtype: int64\n",
      "\n",
      "Unique values and count for column safety :\n",
      "low     576\n",
      "med     576\n",
      "high    576\n",
      "Name: safety, dtype: int64\n",
      "\n",
      "Unique values and count for column class :\n",
      "unacc    1210\n",
      "acc       384\n",
      "good       69\n",
      "vgood      65\n",
      "Name: class, dtype: int64\n",
      "\n"
     ]
    }
   ],
   "source": [
    "for col in cars:\n",
    "    print(f\"Unique values and count for column {col} :\\n{cars[col].value_counts()}\\n\")"
   ]
  },
  {
   "cell_type": "markdown",
   "id": "8f9f102d",
   "metadata": {},
   "source": [
    "From the results above, it shows that most categorical variables have uniformly distributed values except for class."
   ]
  },
  {
   "cell_type": "code",
   "execution_count": 9,
   "id": "fa32a19d",
   "metadata": {},
   "outputs": [],
   "source": [
    "# persons column is dropped as it is not provided in the test data\n",
    "cars = cars.drop(\"persons\", axis=1)"
   ]
  },
  {
   "cell_type": "markdown",
   "id": "b68ce5e8",
   "metadata": {},
   "source": [
    "Other than dropping the column, the alternative is to impute the data, such as using mode or nearest neighbors. Using mode will not be useful as the unique values for persons column is uniformly distributed."
   ]
  },
  {
   "cell_type": "code",
   "execution_count": 10,
   "id": "5a7daa73",
   "metadata": {},
   "outputs": [],
   "source": [
    "y = cars.pop(\"buying\")\n",
    "X = cars"
   ]
  },
  {
   "cell_type": "code",
   "execution_count": 11,
   "id": "2f469b70",
   "metadata": {},
   "outputs": [],
   "source": [
    "def grid_search_model(X, y, model, grid):\n",
    "    # X : inputs variables\n",
    "    # Y : target variable\n",
    "    # model : sklearn model\n",
    "    # grid : grid that contains different parameters' values for the sklearn model\n",
    "    \n",
    "    # The function will run the models using different parameters and cross validations based on N_JOBS\n",
    "    # Once the output of cross validation is available, the maximum value and parameters that yield that maximum value are stored\n",
    "    \n",
    "    cv = RepeatedStratifiedKFold(n_repeats=N_REPEATS, random_state=SEED)\n",
    "    grid_search = GridSearchCV(estimator=model,\n",
    "                               param_grid=grid,\n",
    "                               n_jobs=N_JOBS,\n",
    "                               cv=cv, \n",
    "                               scoring=SCORING)\n",
    "                               #error_score=ERROR_SCORE)\n",
    "    grid_result = grid_search.fit(X, y)\n",
    "    max_means_score = np.nanmax( grid_result.cv_results_['mean_test_score'] )\n",
    "    avg_means_score = np.nanmean( grid_result.cv_results_['mean_test_score'] )\n",
    "    has_max_score =  grid_result.cv_results_['mean_test_score'] == max_means_score\n",
    "    params_for_max_means_score =  np.array(grid_result.cv_results_['params']) [has_max_score]\n",
    "    return max_means_score, avg_means_score, params_for_max_means_score"
   ]
  },
  {
   "cell_type": "markdown",
   "id": "d4c9961a",
   "metadata": {},
   "source": [
    "The function above will be used to run grid search on multiple models and models' parameters (i.e. grid). Some of the models that are included to predict the buying price are Random Forest, Logistic Regression, KNeighbours, Support Vector, and Decision Tree.  "
   ]
  },
  {
   "cell_type": "markdown",
   "id": "e82bec04",
   "metadata": {},
   "source": [
    "# Random Forest Variations"
   ]
  },
  {
   "cell_type": "code",
   "execution_count": 12,
   "id": "8f0a9c78",
   "metadata": {},
   "outputs": [],
   "source": [
    "rf_model = RandomForestClassifier()\n",
    "max_depth_list = [10, 30, 40]\n",
    "min_samples_split_list = [2, 20, 200]\n",
    "min_samples_leaf_list = [1, 10, 100]\n",
    "n_stimators_list = [10, 100, 200]\n",
    "rf_grid = dict(max_depth=max_depth_list,\n",
    "               min_samples_split=min_samples_split_list,\n",
    "               min_samples_leaf=min_samples_leaf_list,\n",
    "               n_estimators=n_stimators_list)"
   ]
  },
  {
   "cell_type": "markdown",
   "id": "87271b0c",
   "metadata": {},
   "source": [
    "# Logistic Regression Variations"
   ]
  },
  {
   "cell_type": "code",
   "execution_count": 13,
   "id": "46bbd8a9",
   "metadata": {},
   "outputs": [],
   "source": [
    "lr_model = LogisticRegression()\n",
    "solver_list = [\"newton-cg\", \"lbfgs\", \"liblinear\"]\n",
    "penalty_list = [ \"none\", \"l2\"]\n",
    "C_list = [10, 1, 0.1]\n",
    "lr_grid = dict(solver=solver_list,\n",
    "               penalty=penalty_list,\n",
    "               C=C_list)"
   ]
  },
  {
   "cell_type": "markdown",
   "id": "9b911ab6",
   "metadata": {},
   "source": [
    "# KNeighbours Variations"
   ]
  },
  {
   "cell_type": "code",
   "execution_count": 14,
   "id": "efc7a4f7",
   "metadata": {},
   "outputs": [],
   "source": [
    "kn_model = KNeighborsClassifier()\n",
    "n_neighbors_list = [5,10, 20]\n",
    "weights_list = [\"uniform\", \"distance\"]\n",
    "metric_list = ['euclidean', 'manhattan']\n",
    "kn_grid = dict(n_neighbors=n_neighbors_list,\n",
    "               weights=weights_list,\n",
    "               metric=metric_list)"
   ]
  },
  {
   "cell_type": "markdown",
   "id": "283f43f3",
   "metadata": {},
   "source": [
    "# SVC Variations"
   ]
  },
  {
   "cell_type": "code",
   "execution_count": 15,
   "id": "dd2e8814",
   "metadata": {},
   "outputs": [],
   "source": [
    "svc_model = SVC()\n",
    "kernel_list = ['poly', 'rbf', 'sigmoid']\n",
    "C_list = [50, 10, 1.0, 0.1, 0.01]\n",
    "gamma_list = ['scale']\n",
    "svc_grid = dict(kernel=kernel_list,\n",
    "                C=C_list,\n",
    "                gamma=gamma_list)"
   ]
  },
  {
   "cell_type": "markdown",
   "id": "be9508aa",
   "metadata": {},
   "source": [
    "# DecisionTreeClassifier Variations"
   ]
  },
  {
   "cell_type": "code",
   "execution_count": 16,
   "id": "4b81d3a5",
   "metadata": {},
   "outputs": [],
   "source": [
    "dt_model = DecisionTreeClassifier()\n",
    "criterion_list = [\"gini\", \"entropy\"]\n",
    "max_depth = [10, 30, 40]\n",
    "min_samples_split_list = [2, 20, 200]\n",
    "min_samples_leaf_list = [1, 10, 100]\n",
    "dt_grid = dict(criterion=criterion_list,\n",
    "               max_depth=max_depth_list,\n",
    "               min_samples_split=min_samples_split_list,\n",
    "               min_samples_leaf=min_samples_leaf_list)"
   ]
  },
  {
   "cell_type": "code",
   "execution_count": 17,
   "id": "2eb6b62e",
   "metadata": {},
   "outputs": [],
   "source": [
    "models = [\n",
    "    {\"name\" : \"rf\",\n",
    "     \"instance\" : rf_model,\n",
    "     \"grid\" : rf_grid},\n",
    "    {\"name\" : \"lr\",\n",
    "     \"instance\" : lr_model,\n",
    "     \"grid\" : lr_grid},\n",
    "    {\"name\" : \"svc\",\n",
    "     \"instance\" : svc_model,\n",
    "     \"grid\" : svc_grid},\n",
    "    {\"name\" : \"dt\",\n",
    "     \"instance\" : dt_model,\n",
    "     \"grid\" : dt_grid}\n",
    "]\n",
    "\n",
    "X_encoders = [\n",
    "    {\"name\" : \"ordinal\" ,\n",
    "     \"instance\" : OrdinalEncoder()},\n",
    "    {\"name\" : \"onehot\",\n",
    "     \"instance\" : OneHotEncoder(drop=\"first\", sparse=False)}\n",
    "]\n",
    "\n",
    "y_encoders = [\n",
    "    {\"name\" : \"label\",\n",
    "     \"instance\" : LabelEncoder()}\n",
    "]"
   ]
  },
  {
   "cell_type": "markdown",
   "id": "4df5b0af",
   "metadata": {},
   "source": [
    "Ordinal encoder is useful if there is relationship between the categories. An example will be vhigh > high > med > low for maintenance price. On the other hand, one hot encoder is useful when there is no known relationship."
   ]
  },
  {
   "cell_type": "code",
   "execution_count": 18,
   "id": "f877c0c8",
   "metadata": {},
   "outputs": [
    {
     "name": "stdout",
     "output_type": "stream",
     "text": [
      "Processing rf\n",
      "Processing lr\n"
     ]
    },
    {
     "name": "stderr",
     "output_type": "stream",
     "text": [
      "C:\\Users\\tanid\\Miniconda3\\lib\\site-packages\\sklearn\\model_selection\\_validation.py:372: FitFailedWarning: \n",
      "45 fits failed out of a total of 270.\n",
      "The score on these train-test partitions for these parameters will be set to nan.\n",
      "If these failures are not expected, you can try to debug them by setting error_score='raise'.\n",
      "\n",
      "Below are more details about the failures:\n",
      "--------------------------------------------------------------------------------\n",
      "45 fits failed with the following error:\n",
      "Traceback (most recent call last):\n",
      "  File \"C:\\Users\\tanid\\Miniconda3\\lib\\site-packages\\sklearn\\model_selection\\_validation.py\", line 680, in _fit_and_score\n",
      "    estimator.fit(X_train, y_train, **fit_params)\n",
      "  File \"C:\\Users\\tanid\\Miniconda3\\lib\\site-packages\\sklearn\\linear_model\\_logistic.py\", line 1461, in fit\n",
      "    solver = _check_solver(self.solver, self.penalty, self.dual)\n",
      "  File \"C:\\Users\\tanid\\Miniconda3\\lib\\site-packages\\sklearn\\linear_model\\_logistic.py\", line 464, in _check_solver\n",
      "    raise ValueError(\"penalty='none' is not supported for the liblinear solver\")\n",
      "ValueError: penalty='none' is not supported for the liblinear solver\n",
      "\n",
      "  warnings.warn(some_fits_failed_message, FitFailedWarning)\n",
      "C:\\Users\\tanid\\Miniconda3\\lib\\site-packages\\sklearn\\model_selection\\_search.py:969: UserWarning: One or more of the test scores are non-finite: [0.23361369 0.23361369        nan 0.23361369 0.23361369 0.23399905\n",
      " 0.23361369 0.23361369        nan 0.23361369 0.23361369 0.23477088\n",
      " 0.23361369 0.23361369        nan 0.23226439 0.23226439 0.23670046]\n",
      "  warnings.warn(\n"
     ]
    },
    {
     "name": "stdout",
     "output_type": "stream",
     "text": [
      "Processing svc\n",
      "Processing dt\n",
      "Processing rf\n",
      "Processing lr\n"
     ]
    },
    {
     "name": "stderr",
     "output_type": "stream",
     "text": [
      "C:\\Users\\tanid\\Miniconda3\\lib\\site-packages\\sklearn\\model_selection\\_validation.py:372: FitFailedWarning: \n",
      "45 fits failed out of a total of 270.\n",
      "The score on these train-test partitions for these parameters will be set to nan.\n",
      "If these failures are not expected, you can try to debug them by setting error_score='raise'.\n",
      "\n",
      "Below are more details about the failures:\n",
      "--------------------------------------------------------------------------------\n",
      "45 fits failed with the following error:\n",
      "Traceback (most recent call last):\n",
      "  File \"C:\\Users\\tanid\\Miniconda3\\lib\\site-packages\\sklearn\\model_selection\\_validation.py\", line 680, in _fit_and_score\n",
      "    estimator.fit(X_train, y_train, **fit_params)\n",
      "  File \"C:\\Users\\tanid\\Miniconda3\\lib\\site-packages\\sklearn\\linear_model\\_logistic.py\", line 1461, in fit\n",
      "    solver = _check_solver(self.solver, self.penalty, self.dual)\n",
      "  File \"C:\\Users\\tanid\\Miniconda3\\lib\\site-packages\\sklearn\\linear_model\\_logistic.py\", line 464, in _check_solver\n",
      "    raise ValueError(\"penalty='none' is not supported for the liblinear solver\")\n",
      "ValueError: penalty='none' is not supported for the liblinear solver\n",
      "\n",
      "  warnings.warn(some_fits_failed_message, FitFailedWarning)\n",
      "C:\\Users\\tanid\\Miniconda3\\lib\\site-packages\\sklearn\\model_selection\\_search.py:969: UserWarning: One or more of the test scores are non-finite: [0.30902404 0.30902404        nan 0.30863813 0.30844545 0.30671135\n",
      " 0.30902404 0.30902404        nan 0.30536316 0.30536316 0.30690458\n",
      " 0.30902404 0.30902404        nan 0.2889654  0.28877272 0.28896819]\n",
      "  warnings.warn(\n",
      "C:\\Users\\tanid\\Miniconda3\\lib\\site-packages\\sklearn\\linear_model\\_logistic.py:1483: UserWarning: Setting penalty='none' will ignore the C and l1_ratio parameters\n",
      "  warnings.warn(\n"
     ]
    },
    {
     "name": "stdout",
     "output_type": "stream",
     "text": [
      "Processing svc\n",
      "Processing dt\n"
     ]
    }
   ],
   "source": [
    "results = []\n",
    "\n",
    "# to generate all possible combinations of these parameters\n",
    "for params in product(*[X_encoders, y_encoders, models]):\n",
    "    X_encoder, y_encoder, model = params\n",
    "    print(f\"Processing {model['name']}\")\n",
    "    curr_X_train = X_encoder[\"instance\"].fit_transform(X)\n",
    "    curr_y_train = y_encoder[\"instance\"].fit_transform(y)\n",
    "    max_means_score, avg_means_score, params_for_max_means_score = grid_search_model(curr_X_train,\n",
    "                                                                                     curr_y_train,\n",
    "                                                                                     model[\"instance\"],\n",
    "                                                                                     model[\"grid\"])\n",
    "    results += [{\n",
    "        \"x_encoder_name\" : X_encoder[\"name\"],\n",
    "        \"y_encoder_name\" : y_encoder[\"name\"],\n",
    "        \"model_name\" : model[\"name\"],\n",
    "        \"max_means_score\" : max_means_score,\n",
    "        \"avg_means_score\" : avg_means_score,\n",
    "        \"params_for_max_means_score\" : params_for_max_means_score\n",
    "    }]"
   ]
  },
  {
   "cell_type": "code",
   "execution_count": 19,
   "id": "8c930111",
   "metadata": {},
   "outputs": [],
   "source": [
    "results = pd.DataFrame.from_records(results)"
   ]
  },
  {
   "cell_type": "code",
   "execution_count": 20,
   "id": "0ea74d17",
   "metadata": {},
   "outputs": [
    {
     "data": {
      "text/html": [
       "<div>\n",
       "<style scoped>\n",
       "    .dataframe tbody tr th:only-of-type {\n",
       "        vertical-align: middle;\n",
       "    }\n",
       "\n",
       "    .dataframe tbody tr th {\n",
       "        vertical-align: top;\n",
       "    }\n",
       "\n",
       "    .dataframe thead th {\n",
       "        text-align: right;\n",
       "    }\n",
       "</style>\n",
       "<table border=\"1\" class=\"dataframe\">\n",
       "  <thead>\n",
       "    <tr style=\"text-align: right;\">\n",
       "      <th></th>\n",
       "      <th>x_encoder_name</th>\n",
       "      <th>y_encoder_name</th>\n",
       "      <th>model_name</th>\n",
       "      <th>max_means_score</th>\n",
       "      <th>avg_means_score</th>\n",
       "      <th>params_for_max_means_score</th>\n",
       "    </tr>\n",
       "  </thead>\n",
       "  <tbody>\n",
       "    <tr>\n",
       "      <th>0</th>\n",
       "      <td>ordinal</td>\n",
       "      <td>label</td>\n",
       "      <td>rf</td>\n",
       "      <td>0.288582</td>\n",
       "      <td>0.227067</td>\n",
       "      <td>[{'max_depth': 10, 'min_samples_leaf': 1, 'min...</td>\n",
       "    </tr>\n",
       "    <tr>\n",
       "      <th>1</th>\n",
       "      <td>ordinal</td>\n",
       "      <td>label</td>\n",
       "      <td>lr</td>\n",
       "      <td>0.236700</td>\n",
       "      <td>0.233742</td>\n",
       "      <td>[{'C': 0.1, 'penalty': 'l2', 'solver': 'liblin...</td>\n",
       "    </tr>\n",
       "    <tr>\n",
       "      <th>2</th>\n",
       "      <td>ordinal</td>\n",
       "      <td>label</td>\n",
       "      <td>svc</td>\n",
       "      <td>0.280278</td>\n",
       "      <td>0.247326</td>\n",
       "      <td>[{'C': 0.1, 'gamma': 'scale', 'kernel': 'rbf'}]</td>\n",
       "    </tr>\n",
       "    <tr>\n",
       "      <th>3</th>\n",
       "      <td>ordinal</td>\n",
       "      <td>label</td>\n",
       "      <td>dt</td>\n",
       "      <td>0.278164</td>\n",
       "      <td>0.218024</td>\n",
       "      <td>[{'criterion': 'entropy', 'max_depth': 10, 'mi...</td>\n",
       "    </tr>\n",
       "    <tr>\n",
       "      <th>4</th>\n",
       "      <td>onehot</td>\n",
       "      <td>label</td>\n",
       "      <td>rf</td>\n",
       "      <td>0.293592</td>\n",
       "      <td>0.237386</td>\n",
       "      <td>[{'max_depth': 10, 'min_samples_leaf': 1, 'min...</td>\n",
       "    </tr>\n",
       "  </tbody>\n",
       "</table>\n",
       "</div>"
      ],
      "text/plain": [
       "  x_encoder_name y_encoder_name model_name  max_means_score  avg_means_score  \\\n",
       "0        ordinal          label         rf         0.288582         0.227067   \n",
       "1        ordinal          label         lr         0.236700         0.233742   \n",
       "2        ordinal          label        svc         0.280278         0.247326   \n",
       "3        ordinal          label         dt         0.278164         0.218024   \n",
       "4         onehot          label         rf         0.293592         0.237386   \n",
       "\n",
       "                          params_for_max_means_score  \n",
       "0  [{'max_depth': 10, 'min_samples_leaf': 1, 'min...  \n",
       "1  [{'C': 0.1, 'penalty': 'l2', 'solver': 'liblin...  \n",
       "2    [{'C': 0.1, 'gamma': 'scale', 'kernel': 'rbf'}]  \n",
       "3  [{'criterion': 'entropy', 'max_depth': 10, 'mi...  \n",
       "4  [{'max_depth': 10, 'min_samples_leaf': 1, 'min...  "
      ]
     },
     "execution_count": 20,
     "metadata": {},
     "output_type": "execute_result"
    }
   ],
   "source": [
    "results.head()"
   ]
  },
  {
   "cell_type": "code",
   "execution_count": 21,
   "id": "54ed20af",
   "metadata": {},
   "outputs": [],
   "source": [
    "best_result = results.iloc[results[\"max_means_score\"].idxmax(), :]"
   ]
  },
  {
   "cell_type": "code",
   "execution_count": 25,
   "id": "3867022f",
   "metadata": {},
   "outputs": [
    {
     "data": {
      "text/plain": [
       "(0.30902404289184887,\n",
       " 'onehot',\n",
       " 'lr',\n",
       " array([{'C': 10, 'penalty': 'none', 'solver': 'newton-cg'},\n",
       "        {'C': 10, 'penalty': 'none', 'solver': 'lbfgs'},\n",
       "        {'C': 1, 'penalty': 'none', 'solver': 'newton-cg'},\n",
       "        {'C': 1, 'penalty': 'none', 'solver': 'lbfgs'},\n",
       "        {'C': 0.1, 'penalty': 'none', 'solver': 'newton-cg'},\n",
       "        {'C': 0.1, 'penalty': 'none', 'solver': 'lbfgs'}], dtype=object))"
      ]
     },
     "execution_count": 25,
     "metadata": {},
     "output_type": "execute_result"
    }
   ],
   "source": [
    "best_result.max_means_score, best_result.x_encoder_name, best_result.model_name, best_result.params_for_max_means_score"
   ]
  },
  {
   "cell_type": "markdown",
   "id": "06b5ab53",
   "metadata": {},
   "source": [
    "The result above is the encoder, model, and model's parameters of the config that yield the best means_score in terms of accuracy."
   ]
  },
  {
   "cell_type": "code",
   "execution_count": 23,
   "id": "e074e96e",
   "metadata": {},
   "outputs": [
    {
     "data": {
      "text/html": [
       "<div>\n",
       "<style scoped>\n",
       "    .dataframe tbody tr th:only-of-type {\n",
       "        vertical-align: middle;\n",
       "    }\n",
       "\n",
       "    .dataframe tbody tr th {\n",
       "        vertical-align: top;\n",
       "    }\n",
       "\n",
       "    .dataframe thead th {\n",
       "        text-align: right;\n",
       "    }\n",
       "</style>\n",
       "<table border=\"1\" class=\"dataframe\">\n",
       "  <thead>\n",
       "    <tr style=\"text-align: right;\">\n",
       "      <th></th>\n",
       "      <th>maint</th>\n",
       "      <th>doors</th>\n",
       "      <th>lug_boot</th>\n",
       "      <th>safety</th>\n",
       "      <th>class</th>\n",
       "    </tr>\n",
       "  </thead>\n",
       "  <tbody>\n",
       "    <tr>\n",
       "      <th>0</th>\n",
       "      <td>high</td>\n",
       "      <td>4</td>\n",
       "      <td>big</td>\n",
       "      <td>high</td>\n",
       "      <td>good</td>\n",
       "    </tr>\n",
       "  </tbody>\n",
       "</table>\n",
       "</div>"
      ],
      "text/plain": [
       "  maint doors lug_boot safety class\n",
       "0  high     4      big   high  good"
      ]
     },
     "execution_count": 23,
     "metadata": {},
     "output_type": "execute_result"
    }
   ],
   "source": [
    "X_test = [{\n",
    "    \"maint\" : \"high\",\n",
    "    \"doors\" : \"4\",\n",
    "    \"lug_boot\" : \"big\",\n",
    "    \"safety\" : \"high\",\n",
    "    \"class\" : \"good\"\n",
    "}]\n",
    "X_test = pd.DataFrame.from_records(X_test)\n",
    "X_test"
   ]
  },
  {
   "cell_type": "code",
   "execution_count": 24,
   "id": "3d0602ba",
   "metadata": {},
   "outputs": [
    {
     "data": {
      "text/plain": [
       "array(['low'], dtype=object)"
      ]
     },
     "execution_count": 24,
     "metadata": {},
     "output_type": "execute_result"
    }
   ],
   "source": [
    "X_train = X_encoders[1][\"instance\"].fit_transform(X.to_numpy())\n",
    "X_test = X_encoders[1][\"instance\"].transform(X_test.to_numpy())\n",
    "\n",
    "y_train = y_encoders[0][\"instance\"].fit_transform(y.to_numpy())\n",
    "\n",
    "svc_model = SVC(kernel='sigmoid', C=1, gamma='scale')\n",
    "svc_model.fit(X_train, y_train)\n",
    "\n",
    "prediction = svc_model.predict(X_test)\n",
    "y_encoders[0][\"instance\"].inverse_transform(prediction)"
   ]
  },
  {
   "cell_type": "markdown",
   "id": "0d34539b",
   "metadata": {},
   "source": [
    "The baseline model has accuracy of 25%, which is by simply predicting only one class. As the best model's accuracy is 30.9%, it is slightly better than the baseline. However, more can be done "
   ]
  }
 ],
 "metadata": {
  "kernelspec": {
   "display_name": "Python 3 (ipykernel)",
   "language": "python",
   "name": "python3"
  },
  "language_info": {
   "codemirror_mode": {
    "name": "ipython",
    "version": 3
   },
   "file_extension": ".py",
   "mimetype": "text/x-python",
   "name": "python",
   "nbconvert_exporter": "python",
   "pygments_lexer": "ipython3",
   "version": "3.8.5"
  }
 },
 "nbformat": 4,
 "nbformat_minor": 5
}
